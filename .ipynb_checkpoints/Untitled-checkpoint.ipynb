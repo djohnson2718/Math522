{
 "cells": [
  {
   "cell_type": "markdown",
   "metadata": {},
   "source": [
    "(1)"
   ]
  },
  {
   "cell_type": "code",
   "execution_count": 2,
   "metadata": {},
   "outputs": [
    {
     "data": {
      "text/plain": [
       "[[x == 3, y == (1/2)]]"
      ]
     },
     "execution_count": 2,
     "metadata": {},
     "output_type": "execute_result"
    }
   ],
   "source": [
    "var(\"x,y\")\n",
    "solve([1.5 - x + x*y, 2.25 -x + x*y^2, 2.625 -x + x*y^3],[x,y] )"
   ]
  },
  {
   "cell_type": "markdown",
   "metadata": {},
   "source": [
    "(2)"
   ]
  },
  {
   "cell_type": "code",
   "execution_count": 3,
   "metadata": {
    "scrolled": true
   },
   "outputs": [
    {
     "data": {
      "text/plain": [
       "[[x == 3, y == 2], [x == 3.584428223844282, y == -1.848126535626536], [x == -2.80511811023622, y == 3.131312515247621], [x == -3.779310344827586, y == -3.283185840707965]]"
      ]
     },
     "execution_count": 3,
     "metadata": {},
     "output_type": "execute_result"
    }
   ],
   "source": [
    "solve([x^2 +y -11, x + y^2 - 7],[x,y])"
   ]
  },
  {
   "cell_type": "markdown",
   "metadata": {},
   "source": [
    "(3)"
   ]
  },
  {
   "cell_type": "code",
   "execution_count": 6,
   "metadata": {},
   "outputs": [],
   "source": [
    "f=-(y)*sin(sqrt(x/2 + y)) - x*sin(sqrt(x - y))"
   ]
  },
  {
   "cell_type": "code",
   "execution_count": 14,
   "metadata": {},
   "outputs": [
    {
     "data": {
      "text/plain": [
       "-1/2*x*cos(sqrt(x - y))/sqrt(x - y) - 1/4*y*cos(sqrt(1/2*x + y))/sqrt(1/2*x + y) - sin(sqrt(x - y))"
      ]
     },
     "execution_count": 14,
     "metadata": {},
     "output_type": "execute_result"
    }
   ],
   "source": [
    "f.derivative(x)"
   ]
  },
  {
   "cell_type": "code",
   "execution_count": 13,
   "metadata": {},
   "outputs": [
    {
     "data": {
      "text/plain": [
       "-1/4*sqrt(y)*cos(sqrt(y)) - sin(sqrt(-y))"
      ]
     },
     "execution_count": 13,
     "metadata": {},
     "output_type": "execute_result"
    }
   ],
   "source": [
    "f.derivative(x).subs({x:0})"
   ]
  },
  {
   "cell_type": "code",
   "execution_count": 9,
   "metadata": {},
   "outputs": [
    {
     "data": {
      "text/plain": [
       "1/2*x*cos(sqrt(x - y))/sqrt(x - y) - 1/2*y*cos(sqrt(1/2*x + y))/sqrt(1/2*x + y) - sin(sqrt(1/2*x + y))"
      ]
     },
     "execution_count": 9,
     "metadata": {},
     "output_type": "execute_result"
    }
   ],
   "source": [
    "f.derivative(y)"
   ]
  },
  {
   "cell_type": "code",
   "execution_count": 10,
   "metadata": {},
   "outputs": [
    {
     "data": {
      "text/plain": [
       "[-1/2*x*cos(sqrt(x - y))/sqrt(x - y) - 1/4*y*cos(sqrt(1/2*x + y))/sqrt(1/2*x + y) - sin(sqrt(x - y)), 1/2*x*cos(sqrt(x - y))/sqrt(x - y) - 1/2*y*cos(sqrt(1/2*x + y))/sqrt(1/2*x + y) - sin(sqrt(1/2*x + y))]"
      ]
     },
     "execution_count": 10,
     "metadata": {},
     "output_type": "execute_result"
    }
   ],
   "source": [
    "solve([f.derivative(x), f.derivative(y)],[x,y])"
   ]
  },
  {
   "cell_type": "markdown",
   "metadata": {},
   "source": [
    "(4)"
   ]
  },
  {
   "cell_type": "markdown",
   "metadata": {},
   "source": [
    "0 at x=y=0"
   ]
  },
  {
   "cell_type": "markdown",
   "metadata": {},
   "source": [
    "(5) 0 at x=y=1"
   ]
  },
  {
   "cell_type": "markdown",
   "metadata": {},
   "source": [
    "(6) Optimize separately"
   ]
  },
  {
   "cell_type": "code",
   "execution_count": 17,
   "metadata": {},
   "outputs": [
    {
     "data": {
      "text/plain": [
       "[x == -1/2*(1/72*I*sqrt(32093)*sqrt(3) - 5/8)^(1/3)*(I*sqrt(3) + 1) - 4/3*(-I*sqrt(3) + 1)/(1/72*I*sqrt(32093)*sqrt(3) - 5/8)^(1/3), x == -1/2*(1/72*I*sqrt(32093)*sqrt(3) - 5/8)^(1/3)*(-I*sqrt(3) + 1) - 4/3*(I*sqrt(3) + 1)/(1/72*I*sqrt(32093)*sqrt(3) - 5/8)^(1/3), x == (1/72*I*sqrt(32093)*sqrt(3) - 5/8)^(1/3) + 8/3/(1/72*I*sqrt(32093)*sqrt(3) - 5/8)^(1/3)]"
      ]
     },
     "execution_count": 17,
     "metadata": {},
     "output_type": "execute_result"
    }
   ],
   "source": [
    "solve(4*x^3 - 32*x + 5,x)"
   ]
  },
  {
   "cell_type": "markdown",
   "metadata": {},
   "source": [
    "(7)"
   ]
  },
  {
   "cell_type": "code",
   "execution_count": 20,
   "metadata": {},
   "outputs": [
    {
     "data": {
      "text/plain": [
       "[x == 10*pi*sin(2*pi*x)]"
      ]
     },
     "execution_count": 20,
     "metadata": {},
     "output_type": "execute_result"
    }
   ],
   "source": [
    "solve(2*x - 10*2*pi*sin(2*pi*x),x)"
   ]
  },
  {
   "cell_type": "markdown",
   "metadata": {},
   "source": [
    "(8) all 1's\n"
   ]
  },
  {
   "cell_type": "code",
   "execution_count": 2,
   "metadata": {
    "tags": []
   },
   "outputs": [
    {
     "ename": "NameError",
     "evalue": "name 'qwert' is not defined",
     "output_type": "error",
     "traceback": [
      "\u001b[0;31m---------------------------------------------------------------------------\u001b[0m",
      "\u001b[0;31mNameError\u001b[0m                                 Traceback (most recent call last)",
      "\u001b[0;32m<ipython-input-2-3c287b08e11e>\u001b[0m in \u001b[0;36m<module>\u001b[0;34m\u001b[0m\n\u001b[0;32m----> 1\u001b[0;31m \u001b[0mqwert\u001b[0m\u001b[0;34m\u001b[0m\u001b[0;34m\u001b[0m\u001b[0m\n\u001b[0m",
      "\u001b[0;31mNameError\u001b[0m: name 'qwert' is not defined"
     ]
    }
   ],
   "source": [
    "qwert"
   ]
  },
  {
   "cell_type": "code",
   "execution_count": null,
   "metadata": {},
   "outputs": [],
   "source": []
  }
 ],
 "metadata": {
  "instance_type": "ml.t3.medium",
  "kernelspec": {
   "display_name": "Python 3 (Data Science)",
   "language": "python",
   "name": "python3__SAGEMAKER_INTERNAL__arn:aws:sagemaker:us-east-2:429704687514:image/datascience-1.0"
  },
  "language_info": {
   "codemirror_mode": {
    "name": "ipython",
    "version": 3
   },
   "file_extension": ".py",
   "mimetype": "text/x-python",
   "name": "python",
   "nbconvert_exporter": "python",
   "pygments_lexer": "ipython3",
   "version": "3.7.10"
  }
 },
 "nbformat": 4,
 "nbformat_minor": 4
}
